{
 "cells": [
  {
   "cell_type": "code",
   "execution_count": 1,
   "id": "foster-description",
   "metadata": {},
   "outputs": [],
   "source": [
    "from hokm import Hokm_game\n",
    "import numpy as np\n",
    "\n",
    "#Creat a single game\n",
    "NewGame = Hokm_game()\n"
   ]
  },
  {
   "cell_type": "code",
   "execution_count": 2,
   "id": "egyptian-exploration",
   "metadata": {},
   "outputs": [
    {
     "data": {
      "text/plain": [
       "'hearts'"
      ]
     },
     "execution_count": 2,
     "metadata": {},
     "output_type": "execute_result"
    }
   ],
   "source": [
    "NewGame.first_five_cards[0].suit"
   ]
  },
  {
   "cell_type": "code",
   "execution_count": 3,
   "id": "unlike-crowd",
   "metadata": {},
   "outputs": [],
   "source": [
    "NewGame.trump_suit(NewGame.first_five_cards[0].suit)"
   ]
  },
  {
   "cell_type": "code",
   "execution_count": 4,
   "id": "banned-entity",
   "metadata": {},
   "outputs": [
    {
     "data": {
      "text/plain": [
       "1"
      ]
     },
     "execution_count": 4,
     "metadata": {},
     "output_type": "execute_result"
    }
   ],
   "source": [
    "NewGame.stage"
   ]
  },
  {
   "cell_type": "code",
   "execution_count": 5,
   "id": "offshore-individual",
   "metadata": {},
   "outputs": [
    {
     "data": {
      "text/plain": [
       "False"
      ]
     },
     "execution_count": 5,
     "metadata": {},
     "output_type": "execute_result"
    }
   ],
   "source": [
    "NewGame.agent_decided"
   ]
  },
  {
   "cell_type": "code",
   "execution_count": 12,
   "id": "grateful-cowboy",
   "metadata": {},
   "outputs": [],
   "source": [
    "NewGame.agent_action(np.random.choice(NewGame.agent_cards))"
   ]
  },
  {
   "cell_type": "code",
   "execution_count": 20,
   "id": "static-inspector",
   "metadata": {},
   "outputs": [
    {
     "name": "stdout",
     "output_type": "stream",
     "text": [
      "[Player Wins]\n"
     ]
    }
   ],
   "source": [
    "NewGame.player_action(np.random.choice(NewGame.player_cards))"
   ]
  },
  {
   "cell_type": "code",
   "execution_count": 21,
   "id": "numeric-slide",
   "metadata": {},
   "outputs": [
    {
     "data": {
      "text/plain": [
       "'hearts'"
      ]
     },
     "execution_count": 21,
     "metadata": {},
     "output_type": "execute_result"
    }
   ],
   "source": [
    "NewGame.trump_suit"
   ]
  },
  {
   "cell_type": "code",
   "execution_count": null,
   "id": "incomplete-remedy",
   "metadata": {},
   "outputs": [],
   "source": []
  }
 ],
 "metadata": {
  "kernelspec": {
   "display_name": "Python 3",
   "language": "python",
   "name": "python3"
  },
  "language_info": {
   "codemirror_mode": {
    "name": "ipython",
    "version": 3
   },
   "file_extension": ".py",
   "mimetype": "text/x-python",
   "name": "python",
   "nbconvert_exporter": "python",
   "pygments_lexer": "ipython3",
   "version": "3.9.2"
  }
 },
 "nbformat": 4,
 "nbformat_minor": 5
}
